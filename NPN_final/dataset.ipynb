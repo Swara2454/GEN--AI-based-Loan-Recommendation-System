{
 "cells": [
  {
   "cell_type": "code",
   "execution_count": null,
   "id": "66b8a043",
   "metadata": {},
   "outputs": [
    {
     "name": "stdout",
     "output_type": "stream",
     "text": [
      "✅ Dataset updated with realistic LoanAmount, Tenure, Income, Expenses, RepaymentCapacity, and InterestRate\n"
     ]
    }
   ],
   "source": []
  },
  {
   "cell_type": "code",
   "execution_count": 2,
   "id": "e05c3019",
   "metadata": {},
   "outputs": [
    {
     "name": "stdout",
     "output_type": "stream",
     "text": [
      "['MedicalLoan' 'DebtConsolidationLoan' 'TravelLoan' 'AutoLoan' 'HomeLoan'\n",
      " 'PersonalLoan' 'BusinessLoan' 'EducationLoan' 'WeddingLoan'\n",
      " 'Business Loan' 'Medical Loan' 'Home Loan' 'Home Improvement Loan'\n",
      " 'Agri Loan' 'Auto Loan' 'Education Loan' 'Consumer Durable Loan'\n",
      " 'Personal Loan']\n"
     ]
    }
   ],
   "source": [
    "import pandas as pd\n",
    "df = pd.read_csv(\"loan_reco_merged_dataset_updated.csv\")\n",
    "print(df[\"LoanType\"].unique())\n",
    "\n"
   ]
  },
  {
   "cell_type": "code",
   "execution_count": 2,
   "id": "4256e3dc",
   "metadata": {},
   "outputs": [
    {
     "name": "stdout",
     "output_type": "stream",
     "text": [
      "✅ Dataset updated! Auto Loan range is now ₹5L – ₹20L.\n"
     ]
    }
   ],
   "source": [
    "import pandas as pd\n",
    "import numpy as np\n",
    "\n",
    "# Load dataset\n",
    "df = pd.read_csv(\"loan_reco_merged_dataset_updated_final.csv\")\n",
    "\n",
    "# Define realistic ranges for LoanAmount, Tenure, and InterestRate per LoanType\n",
    "loan_config = {\n",
    "    \"Auto Loan\": {\n",
    "        \"amount\": (500000, 2000000),  # ✅ Updated range: 5L – 20L\n",
    "        \"tenure\": (1, 7),\n",
    "        \"interest_rate\": 9.0\n",
    "    },\n",
    "    \"Education Loan\": {\n",
    "        \"amount\": (12476, 2497686),\n",
    "        \"tenure\": (3, 10),\n",
    "        \"interest_rate\": 8.5\n",
    "    },\n",
    "    \"Medical Loan\": {\n",
    "        \"amount\": (3709, 987769),\n",
    "        \"tenure\": (1, 5),\n",
    "        \"interest_rate\": 10.5\n",
    "    },\n",
    "    \"Travel Loan\": {\n",
    "        \"amount\": (5428, 600000),\n",
    "        \"tenure\": (1, 3),\n",
    "        \"interest_rate\": 11.0\n",
    "    },\n",
    "    \"Business Loan\": {\n",
    "        \"amount\": (983, 4991364),\n",
    "        \"tenure\": (2, 15),\n",
    "        \"interest_rate\": 12.0\n",
    "    },\n",
    "    \"Agri Loan\": {\n",
    "        \"amount\": (50195, 1994150),\n",
    "        \"tenure\": (1, 10),\n",
    "        \"interest_rate\": 7.5\n",
    "    },\n",
    "    \"Home Loan\": {\n",
    "        \"amount\": (19388, 3069535),\n",
    "        \"tenure\": (5, 30),\n",
    "        \"interest_rate\": 8.0\n",
    "    },\n",
    "    \"Personal Loan\": {\n",
    "        \"amount\": (50000, 2000000),\n",
    "        \"tenure\": (1, 7),\n",
    "        \"interest_rate\": 13.0\n",
    "    }\n",
    "}\n",
    "\n",
    "# Update values per loan type\n",
    "for loan_type, config in loan_config.items():\n",
    "    mask = df[\"LoanType\"].str.contains(loan_type, case=False, na=False)\n",
    "    n = mask.sum()\n",
    "    if n == 0:\n",
    "        continue\n",
    "\n",
    "    # Loan amount and tenure\n",
    "    loan_amounts = np.random.randint(config[\"amount\"][0], config[\"amount\"][1] + 1, size=n)\n",
    "    tenures = np.random.randint(config[\"tenure\"][0], config[\"tenure\"][1] + 1, size=n)\n",
    "\n",
    "    # Monthly income (≥ 2x EMI capacity, capped realistically)\n",
    "    incomes = np.random.randint(20000, 200000, size=n) + (loan_amounts // 50)\n",
    "\n",
    "    # Expenses (30–60% of income)\n",
    "    expenses = (incomes * np.random.uniform(0.3, 0.6, size=n)).astype(int)\n",
    "\n",
    "    # Repayment capacity (income - expenses - buffer, min 5k)\n",
    "    repayment_capacity = (incomes - expenses - np.random.randint(2000, 10000, size=n)).clip(min=5000)\n",
    "\n",
    "    # Ensure repayment capacity is never more than 70% of income\n",
    "    repayment_capacity = np.minimum(repayment_capacity, (incomes * 0.7).astype(int))\n",
    "\n",
    "    # Update dataset\n",
    "    df.loc[mask, \"LoanAmount\"] = loan_amounts\n",
    "    df.loc[mask, \"PreferredTenure_Yeras\"] = tenures\n",
    "    df.loc[mask, \"MonthlyIncome\"] = incomes\n",
    "    df.loc[mask, \"Expenses\"] = expenses\n",
    "    df.loc[mask, \"RepaymentCapacity\"] = repayment_capacity\n",
    "    df.loc[mask, \"InterestRate\"] = config[\"interest_rate\"]\n",
    "\n",
    "# Save updated dataset\n",
    "df.to_csv(\"loan_reco_merged_dataset_updated_final.csv\", index=False)\n",
    "\n",
    "print(\"✅ Dataset updated! Auto Loan range is now ₹5L – ₹20L.\")\n"
   ]
  },
  {
   "cell_type": "code",
   "execution_count": null,
   "id": "f3852ce1",
   "metadata": {},
   "outputs": [],
   "source": []
  }
 ],
 "metadata": {
  "kernelspec": {
   "display_name": "Python 3",
   "language": "python",
   "name": "python3"
  },
  "language_info": {
   "codemirror_mode": {
    "name": "ipython",
    "version": 3
   },
   "file_extension": ".py",
   "mimetype": "text/x-python",
   "name": "python",
   "nbconvert_exporter": "python",
   "pygments_lexer": "ipython3",
   "version": "3.10.16"
  }
 },
 "nbformat": 4,
 "nbformat_minor": 5
}
