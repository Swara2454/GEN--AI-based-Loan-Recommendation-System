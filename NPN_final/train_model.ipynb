{
 "cells": [
  {
   "cell_type": "code",
   "execution_count": 1,
   "id": "e6d06056",
   "metadata": {},
   "outputs": [
    {
     "name": "stdout",
     "output_type": "stream",
     "text": [
      "Requirement already satisfied: xgboost in d:\\datascience\\vern\\lib\\site-packages (3.0.4)\n",
      "Requirement already satisfied: numpy in d:\\datascience\\vern\\lib\\site-packages (from xgboost) (2.1.3)\n",
      "Requirement already satisfied: scipy in d:\\datascience\\vern\\lib\\site-packages (from xgboost) (1.15.2)\n",
      "Note: you may need to restart the kernel to use updated packages.\n"
     ]
    }
   ],
   "source": [
    "pip install xgboost\n"
   ]
  },
  {
   "cell_type": "code",
   "execution_count": 4,
   "id": "a331bada",
   "metadata": {},
   "outputs": [
    {
     "name": "stderr",
     "output_type": "stream",
     "text": [
      "d:\\DataScience\\vern\\lib\\site-packages\\xgboost\\training.py:183: UserWarning: [20:21:23] WARNING: C:\\actions-runner\\_work\\xgboost\\xgboost\\src\\learner.cc:738: \n",
      "Parameters: { \"use_label_encoder\" } are not used.\n",
      "\n",
      "  bst.update(dtrain, iteration=i, fobj=obj)\n"
     ]
    },
    {
     "name": "stdout",
     "output_type": "stream",
     "text": [
      "Model and encoders saved.\n"
     ]
    }
   ],
   "source": [
    "import pandas as pd\n",
    "from sklearn.model_selection import train_test_split\n",
    "from sklearn.preprocessing import LabelEncoder\n",
    "from xgboost import XGBClassifier\n",
    "import joblib\n",
    "\n",
    "# Load dataset\n",
    "data = pd.read_csv('loan_reco_merged_dataset_updated_final.csv')\n",
    "\n",
    "# Target column\n",
    "target_col = 'LoanType'\n",
    "\n",
    "# Encode target variable\n",
    "le_target = LabelEncoder()\n",
    "data[target_col] = le_target.fit_transform(data[target_col].astype(str))\n",
    "\n",
    "# List of categorical features to encode\n",
    "categorical_cols = ['Purpose', 'EmploymentStatus', 'Education', 'MaritalStatus', 'Gender']\n",
    "\n",
    "# Encode categorical features\n",
    "label_encoders = {}\n",
    "for col in categorical_cols:\n",
    "    le = LabelEncoder()\n",
    "    data[col] = le.fit_transform(data[col].astype(str))\n",
    "    label_encoders[col] = le\n",
    "\n",
    "# Features (exclude target and LoanAmount if you want to predict LoanType)\n",
    "feature_cols = ['Age', 'MonthlyIncome', 'PreferredTenure_Yeras', 'Purpose', 'EmploymentStatus',\n",
    "                'Education', 'MaritalStatus', 'Gender', 'PreviousLoans', 'ExistingEMIs',\n",
    "                'Expenses', 'RepaymentCapacity', 'LoanAmount']\n",
    "\n",
    "X = data[feature_cols]\n",
    "y = data[target_col]\n",
    "\n",
    "# Split data\n",
    "X_train, X_test, y_train, y_test = train_test_split(X, y, test_size=0.2, random_state=42)\n",
    "\n",
    "# Train model\n",
    "model = XGBClassifier(use_label_encoder=False, eval_metric='mlogloss')\n",
    "model.fit(X_train, y_train)\n",
    "\n",
    "# Save model and label encoders\n",
    "joblib.dump(model, 'loan_type_model.pkl')\n",
    "joblib.dump(le_target, 'label_encoder_target.pkl')\n",
    "joblib.dump(label_encoders, 'label_encoders.pkl')\n",
    "\n",
    "print(\"Model and encoders saved.\")\n"
   ]
  },
  {
   "cell_type": "code",
   "execution_count": null,
   "id": "38127355",
   "metadata": {},
   "outputs": [],
   "source": []
  }
 ],
 "metadata": {
  "kernelspec": {
   "display_name": "Python 3",
   "language": "python",
   "name": "python3"
  },
  "language_info": {
   "codemirror_mode": {
    "name": "ipython",
    "version": 3
   },
   "file_extension": ".py",
   "mimetype": "text/x-python",
   "name": "python",
   "nbconvert_exporter": "python",
   "pygments_lexer": "ipython3",
   "version": "3.10.16"
  }
 },
 "nbformat": 4,
 "nbformat_minor": 5
}
